{
  "nbformat": 4,
  "nbformat_minor": 0,
  "metadata": {
    "colab": {
      "provenance": [],
      "include_colab_link": true
    },
    "kernelspec": {
      "name": "python3",
      "display_name": "Python 3"
    }
  },
  "cells": [
    {
      "cell_type": "markdown",
      "metadata": {
        "id": "view-in-github",
        "colab_type": "text"
      },
      "source": [
        "<a href=\"https://colab.research.google.com/github/Tweaka/MappingApi/blob/master/Copie_de_Python_2_2_Strings.ipynb\" target=\"_parent\"><img src=\"https://colab.research.google.com/assets/colab-badge.svg\" alt=\"Open In Colab\"/></a>"
      ]
    },
    {
      "cell_type": "markdown",
      "source": [
        "# Mission 1"
      ],
      "metadata": {
        "id": "Y-fEMIDQ3Vwg"
      }
    },
    {
      "cell_type": "markdown",
      "metadata": {
        "id": "wruMhTKTx-_T"
      },
      "source": [
        "What's the lenght of the following string ?"
      ]
    },
    {
      "cell_type": "code",
      "metadata": {
        "id": "oweHYwlm1EVo",
        "colab": {
          "base_uri": "https://localhost:8080/"
        },
        "outputId": "56b692b9-245d-4bbf-d6ed-f91e26153ca4"
      },
      "source": [
        "s = \"Taumata whakatangihanga koauau o tamatea turi pukaka piki maungah oronuku pokai whenuaki tanatahu \"\n",
        "print(len(s))"
      ],
      "execution_count": 2,
      "outputs": [
        {
          "output_type": "stream",
          "name": "stdout",
          "text": [
            "98\n"
          ]
        }
      ]
    },
    {
      "cell_type": "markdown",
      "source": [
        "Now, count only non-space characters and display how many there is.\n",
        "Remember, using a for loop on a string will browse all the individual characters of it!"
      ],
      "metadata": {
        "id": "5dmVxxN_j4Dh"
      }
    },
    {
      "cell_type": "code",
      "metadata": {
        "id": "ze_3CDrJx9re",
        "colab": {
          "base_uri": "https://localhost:8080/"
        },
        "outputId": "0c9fd621-43f7-4787-c24d-d5aecc6d90a0"
      },
      "source": [
        "s = \"Taumata whakatangihanga koauau o tamatea turi pukaka piki maungah oronuku pokai whenuaki tanatahu \"\n",
        "print(s.count(' '))\n",
        "\n"
      ],
      "execution_count": 3,
      "outputs": [
        {
          "output_type": "stream",
          "name": "stdout",
          "text": [
            "13\n"
          ]
        }
      ]
    },
    {
      "cell_type": "markdown",
      "metadata": {
        "id": "2BSzzT3_DDOK"
      },
      "source": [
        "# Mission 2\n",
        "\n",
        "Ask the user for a string, then for a character (we assume user input follows the rules). Then, display the positions, **starting with 1**, of all occurrences of the character within the string.\n",
        "\n",
        "For example, for the word \"welcome\" and for the character \"e\", the script will display:\n",
        "```\n",
        "position: 2\n",
        "position: 7\n",
        "```"
      ]
    },
    {
      "cell_type": "code",
      "source": [
        "user_string = input(\"type any string : \")\n",
        "\n",
        "user_char = input(\"type any character from this string : \")\n",
        "\n",
        "positions = []\n",
        "\n",
        "for i in range(len(user_string)):\n",
        "    if user_string[i] == user_char:\n",
        "        positions.append(i + 1)\n",
        "\n",
        "for pos in positions:\n",
        "    print(\"position:\", pos)\n"
      ],
      "metadata": {
        "id": "weGO_rxR4J0Y",
        "colab": {
          "base_uri": "https://localhost:8080/"
        },
        "outputId": "e756407a-cb1c-40df-daf7-5176a08516c2"
      },
      "execution_count": 5,
      "outputs": [
        {
          "output_type": "stream",
          "name": "stdout",
          "text": [
            "type any string : vfvx\n",
            "type any character from this string : v\n",
            "position: 1\n",
            "position: 3\n"
          ]
        }
      ]
    },
    {
      "cell_type": "markdown",
      "metadata": {
        "id": "pLZi_mgzFvMP"
      },
      "source": [
        "# Mission 3\n",
        "\n",
        "Ask the user for a string, then for an integer. Then, display the string repeated as many times as the given integer.\n",
        "\n",
        "For example, `badger` and `4` will display `badgerbadgerbadgerbadger`"
      ]
    },
    {
      "cell_type": "code",
      "source": [
        "user_string = input(\"type any string :\")\n",
        "user_int = int(input('type any integer : '))\n",
        "\n",
        "\n",
        "result = user_string * user_int\n",
        "\n",
        "print(result)"
      ],
      "metadata": {
        "id": "CYWu-AM3OSRG",
        "colab": {
          "base_uri": "https://localhost:8080/"
        },
        "outputId": "0230373d-02c9-4974-b549-0d318ef9e5f2"
      },
      "execution_count": 7,
      "outputs": [
        {
          "output_type": "stream",
          "name": "stdout",
          "text": [
            "type any string :vsdvcqdfg\n",
            "type any integer : 5\n",
            "vsdvcqdfgvsdvcqdfgvsdvcqdfgvsdvcqdfgvsdvcqdfg\n"
          ]
        }
      ]
    },
    {
      "cell_type": "markdown",
      "metadata": {
        "id": "GCvpkWzXXPTf"
      },
      "source": [
        "# Mission 4\n",
        "\n",
        "Display the following string without including the spaces at the beginning and end. There's a `string` method that does exactly that, look at the documentation!"
      ]
    },
    {
      "cell_type": "code",
      "metadata": {
        "id": "KZT8AIPF0ery",
        "colab": {
          "base_uri": "https://localhost:8080/",
          "height": 36
        },
        "outputId": "52a1dc40-1db6-4d49-c3a9-094eae874199"
      },
      "source": [
        "s = \"   Data Analyst  \"\n",
        "s.strip()"
      ],
      "execution_count": 8,
      "outputs": [
        {
          "output_type": "execute_result",
          "data": {
            "text/plain": [
              "'Data Analyst'"
            ],
            "application/vnd.google.colaboratory.intrinsic+json": {
              "type": "string"
            }
          },
          "metadata": {},
          "execution_count": 8
        }
      ]
    },
    {
      "cell_type": "markdown",
      "metadata": {
        "id": "geMLdrvAYHKx"
      },
      "source": [
        "# Mission 5\n",
        "\n",
        "Ask the user for a string, then for a character, then for another character.\n",
        "\n",
        "Then, display the string where the occurences of the first character are replaced by the second one.  \n",
        "For example:\n",
        "* string = `\"Boulgour\"`  \n",
        "* 1st_char = `\"g\"`\n",
        "* 2nd_char = `\"v\"`\n",
        "\n",
        "Result : `\"Boulvour\"`"
      ]
    },
    {
      "cell_type": "code",
      "source": [
        "user_string = input('enter string :')\n",
        "user_char_1 = input('type one char :')\n",
        "user_char_2 = input('type another char :')\n",
        "\n",
        "if user_char_1 in user_string:\n",
        "  user_string.replace(user_char_1, user_char_2)"
      ],
      "metadata": {
        "id": "gGvK4X49OW0g",
        "colab": {
          "base_uri": "https://localhost:8080/"
        },
        "outputId": "560d788b-0791-4e69-d1d7-8ebc3088e266"
      },
      "execution_count": 9,
      "outputs": [
        {
          "name": "stdout",
          "output_type": "stream",
          "text": [
            "enter string :bateau\n",
            "type one char :b\n",
            "type another char :r\n"
          ]
        }
      ]
    },
    {
      "cell_type": "markdown",
      "metadata": {
        "id": "V8ZS3aECXvuZ"
      },
      "source": [
        "# Mission 6\n",
        "\n",
        "Ask the user for a string. Then, display the same string with all vowels converted to uppercase, and all consonants converted to lowercase.  \n",
        "For example:\n",
        "* string = `\"Papa's got a brand new bag\"`  \n",
        "Result : `\"pApA's gOt A brAnd nEw bAg\"`\n"
      ]
    },
    {
      "cell_type": "code",
      "source": [
        "user_string = input('type string :')\n",
        "\n",
        "vowels = ['a', 'e', 'i', 'o', 'u', 'y']\n",
        "\n",
        "result = ''\n",
        "\n",
        "for char in user_string:\n",
        "        if char.lower() in vowels:\n",
        "            result += char.upper()\n",
        "        else:\n",
        "            result += char.lower()\n",
        "print(result)"
      ],
      "metadata": {
        "id": "w4s5g5nKOYPZ",
        "colab": {
          "base_uri": "https://localhost:8080/"
        },
        "outputId": "834f149b-19ff-4ef9-d3af-7b839276529e"
      },
      "execution_count": 11,
      "outputs": [
        {
          "output_type": "stream",
          "name": "stdout",
          "text": [
            "type string :gfdIOERGugehrgerGUHERJGN\n",
            "gfdIOErgUgEhrgErgUhErjgn\n"
          ]
        }
      ]
    },
    {
      "cell_type": "code",
      "source": [],
      "metadata": {
        "id": "1ZyvW4vDy8J5"
      },
      "execution_count": null,
      "outputs": []
    }
  ]
}